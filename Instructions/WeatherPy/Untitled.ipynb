{
 "cells": [
  {
   "cell_type": "code",
   "execution_count": 2,
   "id": "3e6b69c1",
   "metadata": {},
   "outputs": [
    {
     "name": "stdout",
     "output_type": "stream",
     "text": [
      "Requirement already satisfied: matplotlib in c:\\users\\pp257\\anaconda3\\envs\\pythondata\\lib\\site-packages (3.5.1)Note: you may need to restart the kernel to use updated packages.\n",
      "\n",
      "Requirement already satisfied: fonttools>=4.22.0 in c:\\users\\pp257\\anaconda3\\envs\\pythondata\\lib\\site-packages (from matplotlib) (4.33.2)\n",
      "Requirement already satisfied: cycler>=0.10 in c:\\users\\pp257\\anaconda3\\envs\\pythondata\\lib\\site-packages (from matplotlib) (0.11.0)\n",
      "Requirement already satisfied: python-dateutil>=2.7 in c:\\users\\pp257\\anaconda3\\envs\\pythondata\\lib\\site-packages (from matplotlib) (2.8.2)\n",
      "Requirement already satisfied: pyparsing>=2.2.1 in c:\\users\\pp257\\anaconda3\\envs\\pythondata\\lib\\site-packages (from matplotlib) (3.0.8)\n",
      "Requirement already satisfied: kiwisolver>=1.0.1 in c:\\users\\pp257\\anaconda3\\envs\\pythondata\\lib\\site-packages (from matplotlib) (1.4.2)\n",
      "Requirement already satisfied: numpy>=1.17 in c:\\users\\pp257\\anaconda3\\envs\\pythondata\\lib\\site-packages (from matplotlib) (1.21.6)\n",
      "Requirement already satisfied: pillow>=6.2.0 in c:\\users\\pp257\\anaconda3\\envs\\pythondata\\lib\\site-packages (from matplotlib) (9.1.0)\n",
      "Requirement already satisfied: packaging>=20.0 in c:\\users\\pp257\\anaconda3\\envs\\pythondata\\lib\\site-packages (from matplotlib) (21.3)\n",
      "Requirement already satisfied: typing-extensions in c:\\users\\pp257\\anaconda3\\envs\\pythondata\\lib\\site-packages (from kiwisolver>=1.0.1->matplotlib) (4.2.0)\n",
      "Requirement already satisfied: six>=1.5 in c:\\users\\pp257\\anaconda3\\envs\\pythondata\\lib\\site-packages (from python-dateutil>=2.7->matplotlib) (1.16.0)\n"
     ]
    }
   ],
   "source": [
    "pip install matplotlib"
   ]
  },
  {
   "cell_type": "code",
   "execution_count": null,
   "id": "df7b3820",
   "metadata": {},
   "outputs": [],
   "source": []
  }
 ],
 "metadata": {
  "kernelspec": {
   "display_name": "Python 3 (ipykernel)",
   "language": "python",
   "name": "python3"
  },
  "language_info": {
   "codemirror_mode": {
    "name": "ipython",
    "version": 3
   },
   "file_extension": ".py",
   "mimetype": "text/x-python",
   "name": "python",
   "nbconvert_exporter": "python",
   "pygments_lexer": "ipython3",
   "version": "3.7.11"
  }
 },
 "nbformat": 4,
 "nbformat_minor": 5
}
